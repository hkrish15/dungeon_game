{
  "nbformat": 4,
  "nbformat_minor": 0,
  "metadata": {
    "colab": {
      "provenance": [],
      "gpuType": "T4",
      "authorship_tag": "ABX9TyNHIcdkhexjAfX5i9op9/YH",
      "include_colab_link": true
    },
    "kernelspec": {
      "name": "python3",
      "display_name": "Python 3"
    },
    "language_info": {
      "name": "python"
    },
    "accelerator": "GPU"
  },
  "cells": [
    {
      "cell_type": "markdown",
      "metadata": {
        "id": "view-in-github",
        "colab_type": "text"
      },
      "source": [
        "<a href=\"https://colab.research.google.com/github/hkrish15/dungeon_game/blob/main/Dungeon.ipynb\" target=\"_parent\"><img src=\"https://colab.research.google.com/assets/colab-badge.svg\" alt=\"Open In Colab\"/></a>"
      ]
    },
    {
      "cell_type": "code",
      "execution_count": 1,
      "metadata": {
        "colab": {
          "base_uri": "https://localhost:8080/"
        },
        "id": "VSEVbFzuIePI",
        "outputId": "7ec4f219-ecc7-4a1b-bd89-2e5d8c93cd11"
      },
      "outputs": [
        {
          "output_type": "stream",
          "name": "stdout",
          "text": [
            "Requirement already satisfied: pygame in /usr/local/lib/python3.10/dist-packages (2.6.1)\n"
          ]
        }
      ],
      "source": [
        "pip install pygame\n"
      ]
    },
    {
      "cell_type": "code",
      "source": [
        "import pygame\n",
        "import random\n",
        "\n",
        "# Initialize Pygame\n",
        "pygame.init()\n",
        "\n",
        "# Screen dimensions\n",
        "SCREEN_WIDTH = 800\n",
        "SCREEN_HEIGHT = 600\n",
        "TILE_SIZE = 40\n",
        "\n",
        "# Colors\n",
        "WHITE = (255, 255, 255)\n",
        "BLACK = (0, 0, 0)\n",
        "RED = (255, 0, 0)\n",
        "GREEN = (0, 255, 0)\n",
        "BLUE = (0, 0, 255)\n",
        "\n",
        "# Initialize screen\n",
        "screen = pygame.display.set_mode((SCREEN_WIDTH, SCREEN_HEIGHT))\n",
        "pygame.display.set_caption(\"Dungeon Crawler Adventure\")\n",
        "\n",
        "# Clock for controlling frame rate\n",
        "clock = pygame.time.Clock()\n",
        "\n",
        "# Load assets\n",
        "player_image = pygame.Surface((TILE_SIZE, TILE_SIZE))\n",
        "player_image.fill(BLUE)\n",
        "\n",
        "enemy_image = pygame.Surface((TILE_SIZE, TILE_SIZE))\n",
        "enemy_image.fill(RED)\n",
        "\n",
        "coin_image = pygame.Surface((TILE_SIZE // 2, TILE_SIZE // 2))\n",
        "coin_image.fill(GREEN)\n",
        "\n",
        "# Fonts\n",
        "font = pygame.font.Font(None, 36)\n",
        "\n",
        "# Map layout (1: wall, 0: path, 2: exit, 3: coin)\n",
        "MAP = [\n",
        "    [1, 1, 1, 1, 1, 1, 1, 1, 1, 1],\n",
        "    [1, 0, 0, 0, 1, 0, 0, 0, 3, 1],\n",
        "    [1, 0, 1, 0, 1, 0, 1, 0, 1, 1],\n",
        "    [1, 0, 1, 0, 0, 0, 1, 0, 0, 1],\n",
        "    [1, 0, 1, 1, 1, 0, 1, 1, 0, 1],\n",
        "    [1, 0, 0, 0, 0, 0, 0, 0, 0, 1],\n",
        "    [1, 1, 1, 1, 1, 1, 1, 2, 1, 1],\n",
        "]\n",
        "\n",
        "# Player class\n",
        "class Player:\n",
        "    def __init__(self, x, y):\n",
        "        self.x = x\n",
        "        self.y = y\n",
        "        self.score = 0\n",
        "\n",
        "    def move(self, dx, dy):\n",
        "        if MAP[self.y + dy][self.x + dx] != 1:\n",
        "            self.x += dx\n",
        "            self.y += dy\n",
        "\n",
        "    def draw(self):\n",
        "        screen.blit(player_image, (self.x * TILE_SIZE, self.y * TILE_SIZE))\n",
        "\n",
        "# Enemy class\n",
        "class Enemy:\n",
        "    def __init__(self, x, y):\n",
        "        self.x = x\n",
        "        self.y = y\n",
        "\n",
        "    def move(self):\n",
        "        dx, dy = random.choice([(0, 1), (1, 0), (0, -1), (-1, 0)])\n",
        "        if MAP[self.y + dy][self.x + dx] != 1:\n",
        "            self.x += dx\n",
        "            self.y += dy\n",
        "\n",
        "    def draw(self):\n",
        "        screen.blit(enemy_image, (self.x * TILE_SIZE, self.y * TILE_SIZE))\n",
        "\n",
        "# Draw map\n",
        "def draw_map():\n",
        "    for row in range(len(MAP)):\n",
        "        for col in range(len(MAP[row])):\n",
        "            if MAP[row][col] == 1:\n",
        "                pygame.draw.rect(screen, BLACK, (col * TILE_SIZE, row * TILE_SIZE, TILE_SIZE, TILE_SIZE))\n",
        "            elif MAP[row][col] == 2:\n",
        "                pygame.draw.rect(screen, GREEN, (col * TILE_SIZE, row * TILE_SIZE, TILE_SIZE, TILE_SIZE))\n",
        "\n",
        "# Main game loop\n",
        "def main():\n",
        "    player = Player(1, 1)\n",
        "    enemies = [Enemy(4, 4), Enemy(6, 2)]\n",
        "    coins = [(8, 1), (7, 5)]\n",
        "\n",
        "    running = True\n",
        "    while running:\n",
        "        screen.fill(WHITE)\n",
        "\n",
        "        for event in pygame.event.get():\n",
        "            if event.type == pygame.QUIT:\n",
        "                running = False\n",
        "\n",
        "        keys = pygame.key.get_pressed()\n",
        "        if keys[pygame.K_UP]:\n",
        "            player.move(0, -1)\n",
        "        if keys[pygame.K_DOWN]:\n",
        "            player.move(0, 1)\n",
        "        if keys[pygame.K_LEFT]:\n",
        "            player.move(-1, 0)\n",
        "        if keys[pygame.K_RIGHT]:\n",
        "            player.move(1, 0)\n",
        "\n",
        "        # Collect coins\n",
        "        for coin in coins[:]:\n",
        "            if (player.x, player.y) == coin:\n",
        "                coins.remove(coin)\n",
        "                player.score += 1\n",
        "\n",
        "        # Move enemies\n",
        "        for enemy in enemies:\n",
        "            enemy.move()\n",
        "            if (player.x, player.y) == (enemy.x, enemy.y):\n",
        "                print(\"Game Over!\")\n",
        "                running = False\n",
        "\n",
        "        # Check win condition\n",
        "        if MAP[player.y][player.x] == 2:\n",
        "            print(\"You Win!\")\n",
        "            running = False\n",
        "\n",
        "        # Draw everything\n",
        "        draw_map()\n",
        "        player.draw()\n",
        "        for enemy in enemies:\n",
        "            enemy.draw()\n",
        "        for coin in coins:\n",
        "            screen.blit(coin_image, (coin[0] * TILE_SIZE + TILE_SIZE // 4, coin[1] * TILE_SIZE + TILE_SIZE // 4))\n",
        "\n",
        "        # Display score\n",
        "        score_text = font.render(f\"Score: {player.score}\", True, BLACK)\n",
        "        screen.blit(score_text, (10, 10))\n",
        "\n",
        "        pygame.display.flip()\n",
        "        clock.tick(10)\n",
        "\n",
        "    pygame.quit()\n",
        "\n",
        "if __name__ == \"__main__\":\n",
        "    main()\n",
        "\n",
        "\n"
      ],
      "metadata": {
        "colab": {
          "base_uri": "https://localhost:8080/"
        },
        "id": "tKPQN0AvIgM6",
        "outputId": "3af0eb65-e5b6-40ba-a63d-0521993d85e5"
      },
      "execution_count": 5,
      "outputs": [
        {
          "output_type": "stream",
          "name": "stdout",
          "text": [
            "Game Over!\n"
          ]
        }
      ]
    },
    {
      "cell_type": "code",
      "source": [],
      "metadata": {
        "colab": {
          "base_uri": "https://localhost:8080/",
          "height": 106
        },
        "id": "fGCexpwjItAk",
        "outputId": "a1f18b13-8c13-4645-8b8d-21e0a0b032bc"
      },
      "execution_count": 3,
      "outputs": [
        {
          "output_type": "error",
          "ename": "SyntaxError",
          "evalue": "invalid syntax (<ipython-input-3-a5b85dd88f47>, line 1)",
          "traceback": [
            "\u001b[0;36m  File \u001b[0;32m\"<ipython-input-3-a5b85dd88f47>\"\u001b[0;36m, line \u001b[0;32m1\u001b[0m\n\u001b[0;31m    python main.py\u001b[0m\n\u001b[0m           ^\u001b[0m\n\u001b[0;31mSyntaxError\u001b[0m\u001b[0;31m:\u001b[0m invalid syntax\n"
          ]
        }
      ]
    },
    {
      "cell_type": "code",
      "source": [],
      "metadata": {
        "id": "HkUXhZAxI2Bw"
      },
      "execution_count": null,
      "outputs": []
    }
  ]
}